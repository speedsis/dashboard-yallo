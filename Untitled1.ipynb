{
 "cells": [
  {
   "cell_type": "code",
   "execution_count": null,
   "id": "fc0a1a1a-e244-45df-b62c-4b6c03e0aa4a",
   "metadata": {},
   "outputs": [],
   "source": [
    "import pandas as pd\n",
    "import plotly.graph_objects as go\n",
    "import plotly.express as px"
   ]
  },
  {
   "cell_type": "code",
   "execution_count": 1,
   "id": "a12c2378-3d65-416c-89d6-cef49abd5dc1",
   "metadata": {},
   "outputs": [],
   "source": [
    "main_config = {\n",
    "    \"hovermode\": \"x unified\",\n",
    "    \"legend\": {\"yanchor\":\"top\", \n",
    "                \"y\":0.9, \n",
    "                \"xanchor\":\"left\",\n",
    "                \"x\":0.1,\n",
    "                \"title\": {\"text\": None},\n",
    "                \"font\" :{\"color\":\"white\"},\n",
    "                \"bgcolor\": \"rgba(0,0,0,0.5)\"},\n",
    "    \"margin\": {\"l\":0, \"r\":0, \"t\":20, \"b\":0}\n",
    "}"
   ]
  },
  {
   "cell_type": "code",
   "execution_count": 2,
   "id": "7684645c-54a6-4f50-8eb4-2f5ab8711943",
   "metadata": {},
   "outputs": [
    {
     "ename": "NameError",
     "evalue": "name 'pd' is not defined",
     "output_type": "error",
     "traceback": [
      "\u001b[0;31m---------------------------------------------------------------------------\u001b[0m",
      "\u001b[0;31mNameError\u001b[0m                                 Traceback (most recent call last)",
      "\u001b[0;32m/var/folders/pm/65d157d15h955x12gn3bkbvr0000gn/T/ipykernel_19038/4242512420.py\u001b[0m in \u001b[0;36m<module>\u001b[0;34m\u001b[0m\n\u001b[0;32m----> 1\u001b[0;31m \u001b[0mdf\u001b[0m \u001b[0;34m=\u001b[0m \u001b[0mpd\u001b[0m\u001b[0;34m.\u001b[0m\u001b[0mread_csv\u001b[0m\u001b[0;34m(\u001b[0m\u001b[0;34m'dataset_asimov.csv'\u001b[0m\u001b[0;34m)\u001b[0m\u001b[0;34m\u001b[0m\u001b[0;34m\u001b[0m\u001b[0m\n\u001b[0m",
      "\u001b[0;31mNameError\u001b[0m: name 'pd' is not defined"
     ]
    }
   ],
   "source": [
    "df = pd.read_csv('dataset_asimov.csv')"
   ]
  },
  {
   "cell_type": "code",
   "execution_count": 3,
   "id": "37cd0116-a344-41a8-b0bd-ccfd3bf4d6fa",
   "metadata": {},
   "outputs": [
    {
     "ename": "NameError",
     "evalue": "name 'df' is not defined",
     "output_type": "error",
     "traceback": [
      "\u001b[0;31m---------------------------------------------------------------------------\u001b[0m",
      "\u001b[0;31mNameError\u001b[0m                                 Traceback (most recent call last)",
      "\u001b[0;32m/var/folders/pm/65d157d15h955x12gn3bkbvr0000gn/T/ipykernel_18874/1396537375.py\u001b[0m in \u001b[0;36m<module>\u001b[0;34m\u001b[0m\n\u001b[0;32m----> 1\u001b[0;31m \u001b[0mdf\u001b[0m\u001b[0;34m\u001b[0m\u001b[0;34m\u001b[0m\u001b[0m\n\u001b[0m",
      "\u001b[0;31mNameError\u001b[0m: name 'df' is not defined"
     ]
    }
   ],
   "source": [
    "df"
   ]
  },
  {
   "cell_type": "code",
   "execution_count": null,
   "id": "a3f29479-4af4-4a39-8764-4e4b0c973617",
   "metadata": {},
   "outputs": [],
   "source": [
    "df.loc[ df['Mês'] == 'Jan', 'Mês'] = 1\n",
    "df.loc[ df['Mês'] == 'Fev', 'Mês'] = 2\n",
    "df.loc[ df['Mês'] == 'Mar', 'Mês'] = 3\n",
    "df.loc[ df['Mês'] == 'Abr', 'Mês'] = 4\n",
    "df.loc[ df['Mês'] == 'Mai', 'Mês'] = 5\n",
    "df.loc[ df['Mês'] == 'Jun', 'Mês'] = 6\n",
    "df.loc[ df['Mês'] == 'Jul', 'Mês'] = 7\n",
    "df.loc[ df['Mês'] == 'Ago', 'Mês'] = 8\n",
    "df.loc[ df['Mês'] == 'Set', 'Mês'] = 9\n",
    "df.loc[ df['Mês'] == 'Out', 'Mês'] = 10\n",
    "df.loc[ df['Mês'] == 'Nov', 'Mês'] = 11\n",
    "df.loc[ df['Mês'] == 'Dez', 'Mês'] = 12"
   ]
  },
  {
   "cell_type": "code",
   "execution_count": null,
   "id": "f5c089e2-a171-459b-831c-de9f22f7561c",
   "metadata": {},
   "outputs": [],
   "source": [
    "df['Chamadas Realizadas'] = df['Chamadas Realizadas'].astype(int)\n",
    "df['Dia'] = df['Dia'].astype(int)\n",
    "df['Mês'] = df['Mês'].astype(int)\n",
    "\n",
    "df['Valor Pago'] = df['Valor Pago'].str.lstrip('R$ ')\n",
    "df['Valor Pago'] = df['Valor Pago'].astype(int)"
   ]
  },
  {
   "cell_type": "code",
   "execution_count": null,
   "id": "522ee24f-0cf5-443b-a9d1-ae2d85669f3b",
   "metadata": {},
   "outputs": [],
   "source": [
    "df.loc[df['Status de Pagamento'] == 'Pago', 'Status de Pagamento'] = 1\n",
    "df.loc[df['Status de Pagamento'] == 'Não pago', 'Status de Pagamento'] = 0"
   ]
  },
  {
   "cell_type": "code",
   "execution_count": null,
   "id": "196c6d94-fd59-4866-81b6-df1aa5e1f547",
   "metadata": {},
   "outputs": [],
   "source": [
    "df['Status de Pagamento'] = df['Status de Pagamento'].astype(int)"
   ]
  },
  {
   "cell_type": "markdown",
   "id": "3a668e0d-0ae1-4fbc-8c8b-51878a68eaab",
   "metadata": {},
   "source": [
    "#### Vendas por equipe"
   ]
  },
  {
   "cell_type": "code",
   "execution_count": null,
   "id": "fd413a7e-9c90-4fa2-945d-ca8576e37660",
   "metadata": {},
   "outputs": [],
   "source": [
    "df1 = df.groupby('Equipe')['Valor Pago'].sum().reset_index()"
   ]
  },
  {
   "cell_type": "code",
   "execution_count": null,
   "id": "095a9ca2-b4d2-478d-b0c8-d19493a99166",
   "metadata": {},
   "outputs": [],
   "source": [
    "df1"
   ]
  },
  {
   "cell_type": "code",
   "execution_count": null,
   "id": "20f3e6f0-27ec-47c8-9d6a-ae7f875bd1e9",
   "metadata": {},
   "outputs": [],
   "source": [
    "fig1 = go.Figure(go.Bar(\n",
    "        x=df1['Valor Pago'],\n",
    "        y=df1['Equipe'],\n",
    "        orientation='h',\n",
    "        textposition='auto',\n",
    "        text=df1['Valor Pago'],\n",
    "        insidetextfont=dict(family='Times', size=12)))"
   ]
  },
  {
   "cell_type": "code",
   "execution_count": null,
   "id": "26474eec-2383-47bb-9ca5-8b3c62d10485",
   "metadata": {},
   "outputs": [],
   "source": [
    "fig1.show()"
   ]
  },
  {
   "cell_type": "markdown",
   "id": "27fe34ea-2c78-4968-b7c8-c50eb2a830da",
   "metadata": {},
   "source": [
    "#### Chamadas médias por dia do mês"
   ]
  },
  {
   "cell_type": "code",
   "execution_count": null,
   "id": "22fd2851-bb55-43f1-9c71-b3a11ecc0ce8",
   "metadata": {},
   "outputs": [],
   "source": [
    "df2 = df.groupby('Dia')['Chamadas Realizadas'].sum().reset_index()"
   ]
  },
  {
   "cell_type": "code",
   "execution_count": null,
   "id": "0671ada8-ab54-48e7-9d15-8e9f127335b2",
   "metadata": {},
   "outputs": [],
   "source": [
    "fig2 = go.Figure(go.Scatter(\n",
    "    x=df2['Dia'], y=df2['Chamadas Realizadas'], mode='lines', fill='tonexty'))"
   ]
  },
  {
   "cell_type": "code",
   "execution_count": null,
   "id": "4b562aa0-7391-4510-98a4-addc8f7f9774",
   "metadata": {},
   "outputs": [],
   "source": [
    "fig2.add_annotation(text='Chamadas Médias por dia do Mês',\n",
    "        xref=\"paper\", yref=\"paper\",\n",
    "        font=dict(\n",
    "            size=20,\n",
    "            color='gray'\n",
    "            ),\n",
    "        align=\"center\", bgcolor=\"rgba(0,0,0,0.8)\",\n",
    "        x=0.05, y=0.85, showarrow=False)\n",
    "fig2.add_annotation(text=f\"Média : {round(df2['Chamadas Realizadas'].mean(), 2)}\",\n",
    "        xref=\"paper\", yref=\"paper\",\n",
    "        font=dict(\n",
    "            size=30,\n",
    "            color='gray'\n",
    "            ),\n",
    "        align=\"center\", bgcolor=\"rgba(0,0,0,0.8)\",\n",
    "        x=0.05, y=0.55, showarrow=False)"
   ]
  },
  {
   "cell_type": "markdown",
   "id": "e1a64f37-f759-49e3-8a77-cc3eedf5c307",
   "metadata": {},
   "source": [
    "#### Chamadas médias por mês"
   ]
  },
  {
   "cell_type": "code",
   "execution_count": null,
   "id": "7d28e33b-eeb1-4c83-a2d0-fa4ceac95a55",
   "metadata": {},
   "outputs": [],
   "source": [
    "df4 = df.groupby('Mês')['Chamadas Realizadas'].sum().reset_index()"
   ]
  },
  {
   "cell_type": "code",
   "execution_count": null,
   "id": "e1a2bdd4-a310-4b02-b10f-9d62c8b1477e",
   "metadata": {},
   "outputs": [],
   "source": [
    "df4"
   ]
  },
  {
   "cell_type": "code",
   "execution_count": null,
   "id": "85f56c87-1be0-4bb0-b9bc-3f77d397566c",
   "metadata": {},
   "outputs": [],
   "source": [
    "fig4 = go.Figure(go.Scatter(\n",
    "    x=df4['Mês'], y=df4['Chamadas Realizadas'], mode='lines', fill='tonexty'))"
   ]
  },
  {
   "cell_type": "code",
   "execution_count": null,
   "id": "b6c2adda-8cc3-432e-ba6f-0a3e337b5d15",
   "metadata": {},
   "outputs": [],
   "source": [
    "fig4.add_annotation(text='Chamadas Médias por Mês',\n",
    "        xref=\"paper\", yref=\"paper\",\n",
    "        font=dict(\n",
    "            size=20,\n",
    "            color='gray'\n",
    "            ),\n",
    "        align=\"center\", bgcolor=\"rgba(0,0,0,0.8)\",\n",
    "        x=0.05, y=0.85, showarrow=False)\n",
    "fig4.add_annotation(text=f\"Média : {round(df4['Chamadas Realizadas'].mean(), 2)}\",\n",
    "        xref=\"paper\", yref=\"paper\",\n",
    "        font=dict(\n",
    "            size=30,\n",
    "            color='gray'\n",
    "            ),\n",
    "        align=\"center\", bgcolor=\"rgba(0,0,0,0.8)\",\n",
    "        x=0.05, y=0.55, showarrow=False)"
   ]
  },
  {
   "cell_type": "markdown",
   "id": "19e5869e-dcd2-4134-8ee2-068cee6e7c22",
   "metadata": {},
   "source": [
    "#### Valores pagos por meio de propaganda"
   ]
  },
  {
   "cell_type": "code",
   "execution_count": null,
   "id": "b4ccf616-ef3a-4d15-a914-5bd7bfa93886",
   "metadata": {},
   "outputs": [],
   "source": [
    "df3 = df.groupby(['Meio de Propaganda', 'Mês'])['Valor Pago'].sum().reset_index()"
   ]
  },
  {
   "cell_type": "code",
   "execution_count": null,
   "id": "93ea3aa0-f22b-4a1e-9c03-b1df01ac0f07",
   "metadata": {},
   "outputs": [],
   "source": [
    "fig3 = px.line(df3, y=\"Valor Pago\", x=\"Mês\", color=\"Meio de Propaganda\")\n",
    "fig3.show()"
   ]
  },
  {
   "cell_type": "markdown",
   "id": "cd9d520c-d76c-49b3-b88c-08d84fd5cddf",
   "metadata": {},
   "source": [
    "#### Propaganda em PieChart // talvez botar no msm card"
   ]
  },
  {
   "cell_type": "code",
   "execution_count": null,
   "id": "73605081-ee8b-4e04-8fe3-3775e6e9c70b",
   "metadata": {},
   "outputs": [],
   "source": [
    "df11 = df.groupby('Meio de Propaganda')['Valor Pago'].sum().reset_index()"
   ]
  },
  {
   "cell_type": "code",
   "execution_count": null,
   "id": "f96eb802-a1c6-4223-8b84-40e3166d43b0",
   "metadata": {},
   "outputs": [],
   "source": [
    "fig11 = go.Figure()\n",
    "fig11.add_trace(go.Pie(labels=df11['Meio de Propaganda'], values=df11['Valor Pago'], hole=.7))"
   ]
  },
  {
   "cell_type": "markdown",
   "id": "76b1dc18-cc3c-4def-b863-ef52885c3467",
   "metadata": {},
   "source": [
    "#### Ganhos por Mês + segregação por equipe"
   ]
  },
  {
   "cell_type": "code",
   "execution_count": null,
   "id": "8d8c83fb-21a2-4eaf-bc60-ec259586a6f3",
   "metadata": {},
   "outputs": [],
   "source": [
    "df.columns"
   ]
  },
  {
   "cell_type": "code",
   "execution_count": null,
   "id": "fde771c3-7920-4a50-ac0f-a90ca63d2f55",
   "metadata": {},
   "outputs": [],
   "source": [
    "df5 = df.groupby(['Mês', 'Equipe'])['Valor Pago'].sum().reset_index()\n",
    "df5_group = df.groupby('Mês')['Valor Pago'].sum().reset_index()"
   ]
  },
  {
   "cell_type": "code",
   "execution_count": null,
   "id": "567e8985-2ed8-4527-9972-a2066221b918",
   "metadata": {},
   "outputs": [],
   "source": [
    "fig5 = px.line(df5, y=\"Valor Pago\", x=\"Mês\", color=\"Equipe\")\n",
    "fig5.add_trace(go.Scatter(y=df5_group[\"Valor Pago\"], x=df5_group[\"Mês\"], mode='lines+markers', fill='tonexty', fillcolor='rgba(255, 0, 0, 0.2)', name='Total de Vendas'))\n",
    "fig5.show()"
   ]
  },
  {
   "cell_type": "markdown",
   "id": "0d47e852-72d5-4fe8-8842-93d622c1d40e",
   "metadata": {},
   "source": [
    "#### Pagos e não pagos"
   ]
  },
  {
   "cell_type": "code",
   "execution_count": null,
   "id": "d00c5498-ba82-474e-bb30-0af113ab928e",
   "metadata": {},
   "outputs": [],
   "source": [
    "df6 = df.groupby('Status de Pagamento')['Chamadas Realizadas'].sum()"
   ]
  },
  {
   "cell_type": "code",
   "execution_count": null,
   "id": "704b638a-56d6-49b5-837a-fdc3db47c579",
   "metadata": {},
   "outputs": [],
   "source": [
    "fig6 = go.Figure()\n",
    "fig6.add_trace(go.Pie(labels=['Não Pago', 'Pago'], values=df6, hole=.6))\n",
    "fig6.show()"
   ]
  },
  {
   "cell_type": "markdown",
   "id": "0f9a7a25-7ef8-4ecf-8824-629c0f652218",
   "metadata": {},
   "source": [
    "## INDICATORS"
   ]
  },
  {
   "cell_type": "markdown",
   "id": "fc36c08c-2276-4764-92db-3a3a25468cfc",
   "metadata": {},
   "source": [
    "#### Indicators - Melhor consultor"
   ]
  },
  {
   "cell_type": "code",
   "execution_count": null,
   "id": "4719fa2c-9c6b-4cdf-8901-b2378babb9b6",
   "metadata": {},
   "outputs": [],
   "source": [
    "df7 = df.groupby(['Consultor', 'Equipe'])['Valor Pago'].sum()"
   ]
  },
  {
   "cell_type": "code",
   "execution_count": null,
   "id": "1e0c07cc-5042-4fc9-85de-b006ad96e296",
   "metadata": {},
   "outputs": [],
   "source": [
    "df7.sort_values(ascending=False, inplace=True)"
   ]
  },
  {
   "cell_type": "code",
   "execution_count": null,
   "id": "f66a83a7-7398-4012-a332-f97b5a5acca1",
   "metadata": {},
   "outputs": [],
   "source": [
    "df7 = df7.reset_index()"
   ]
  },
  {
   "cell_type": "code",
   "execution_count": null,
   "id": "8ed892f6-2282-4406-9d40-6f1dc4e0d0cb",
   "metadata": {},
   "outputs": [],
   "source": [
    "df7"
   ]
  },
  {
   "cell_type": "code",
   "execution_count": null,
   "id": "e1d5374b-9d8d-49a3-aeda-0a4a04fc8ccd",
   "metadata": {},
   "outputs": [],
   "source": [
    "fig7 = go.Figure()\n",
    "fig7.add_trace(go.Indicator(mode='number+delta',\n",
    "        title = {\"text\": f\"<span style='font-size:150%'>{df7['Consultor'].iloc[0]} - Top Consultant</span><br><span style='font-size:70%'>Em vendas - em relação a média</span><br>\"},\n",
    "        value = df7['Valor Pago'].iloc[0],\n",
    "        number = {'prefix': \"R$\"},\n",
    "        delta = {'relative': True, 'valueformat': '.1%', 'reference': df7['Valor Pago'].mean()}\n",
    "))"
   ]
  },
  {
   "cell_type": "markdown",
   "id": "8871a59d-5e4c-4cd1-800d-3145a2be9d1d",
   "metadata": {},
   "source": [
    "##### Nesses cards de indicador, mostrar abaixo os valores dos top 5 - Equipes, Consultores"
   ]
  },
  {
   "cell_type": "markdown",
   "id": "e6e7626a-8f7b-46e8-b397-8dcb76fbca2f",
   "metadata": {},
   "source": [
    "#### Indicators - Melhor Equipe"
   ]
  },
  {
   "cell_type": "code",
   "execution_count": null,
   "id": "b7144a4b-3e61-4e05-9084-5f2fb151e85c",
   "metadata": {},
   "outputs": [],
   "source": [
    "df8 = df.groupby('Equipe')['Valor Pago'].sum()"
   ]
  },
  {
   "cell_type": "code",
   "execution_count": null,
   "id": "0b339a64-eb7e-4a81-a787-5f1d1d7a9599",
   "metadata": {},
   "outputs": [],
   "source": [
    "df8.sort_values(ascending=False, inplace=True)"
   ]
  },
  {
   "cell_type": "code",
   "execution_count": null,
   "id": "212e072d-674a-4d70-96f8-af94d58952ed",
   "metadata": {},
   "outputs": [],
   "source": [
    "df8 = df8.reset_index()"
   ]
  },
  {
   "cell_type": "code",
   "execution_count": null,
   "id": "8e535181-bcd6-4fb9-8ca6-057c83ec581b",
   "metadata": {},
   "outputs": [],
   "source": [
    "fig8 = go.Figure()\n",
    "fig8.add_trace(go.Indicator(mode='number+delta',\n",
    "        title = {\"text\": f\"<span style='font-size:150%'>{df8['Equipe'].iloc[0]} - Top Team</span><br><span style='font-size:70%'>Em vendas - em relação a média</span><br>\"},\n",
    "        value = df8['Valor Pago'].iloc[0],\n",
    "        number = {'prefix': \"R$\"},\n",
    "        delta = {'relative': True, 'valueformat': '.1%', 'reference': df8['Valor Pago'].mean()}\n",
    "))"
   ]
  },
  {
   "cell_type": "markdown",
   "id": "197918fe-169a-46ba-ae46-35c5824fe094",
   "metadata": {},
   "source": [
    "#### Indicators - Ganhos Totais"
   ]
  },
  {
   "cell_type": "code",
   "execution_count": null,
   "id": "b1d34f5a-53ba-4073-8a5d-0925939fa475",
   "metadata": {},
   "outputs": [],
   "source": [
    "fig9 = go.Figure()\n",
    "fig9.add_trace(go.Indicator(mode='number',\n",
    "        title = {\"text\": f\"<span style='font-size:150%'>Valor Total</span><br><span style='font-size:70%'>Em Reais</span><br>\"},\n",
    "        value = df['Valor Pago'].sum(),\n",
    "        number = {'prefix': \"R$\"}\n",
    "))"
   ]
  },
  {
   "cell_type": "markdown",
   "id": "b4985f19-1253-4cc0-a1da-7355c0f05d92",
   "metadata": {},
   "source": [
    "#### Indicators - Total de Chamadas"
   ]
  },
  {
   "cell_type": "code",
   "execution_count": null,
   "id": "390f9c56-fb7b-4a26-acf6-6bf2c1f54aef",
   "metadata": {},
   "outputs": [],
   "source": [
    "fig10 = go.Figure()\n",
    "fig10.add_trace(go.Indicator(mode='number',\n",
    "        title = {\"text\": f\"<span style='font-size:150%'>Chamadas Realizadas</span>\"},\n",
    "        value = len(df[df['Status de Pagamento'] == 1])\n",
    "))"
   ]
  },
  {
   "cell_type": "markdown",
   "id": "872d370d-f84f-4606-815e-35435d58b3f5",
   "metadata": {},
   "source": [
    "#### Top Consultant per Equipa e seus valores de venda"
   ]
  },
  {
   "cell_type": "code",
   "execution_count": null,
   "id": "9cc1ecba-9895-43c0-937b-8df15d24b8b0",
   "metadata": {},
   "outputs": [],
   "source": [
    "df12 = df.groupby(['Equipe', 'Consultor'])['Valor Pago'].sum().reset_index()"
   ]
  },
  {
   "cell_type": "code",
   "execution_count": null,
   "id": "6d400e33-b468-493b-90ed-aef880d3ebc2",
   "metadata": {},
   "outputs": [],
   "source": [
    "df13 = df.groupby(['Equipe', 'Consultor'])['Valor Pago'].sum()"
   ]
  },
  {
   "cell_type": "code",
   "execution_count": null,
   "id": "dcb7274f-4e9a-4034-98c7-9e05256f9b21",
   "metadata": {},
   "outputs": [],
   "source": [
    "df13 = df13.sort_values(ascending=False)"
   ]
  },
  {
   "cell_type": "code",
   "execution_count": null,
   "id": "7c950bc7-1a15-49a0-843b-83f9fe2e9ab1",
   "metadata": {},
   "outputs": [],
   "source": [
    "df13 = df13.groupby('Equipe').head(1).reset_index()"
   ]
  },
  {
   "cell_type": "code",
   "execution_count": null,
   "id": "e35bd051-8e2c-4c36-8f10-df8e54afae31",
   "metadata": {},
   "outputs": [],
   "source": [
    "df13"
   ]
  },
  {
   "cell_type": "markdown",
   "id": "7998cf53-f126-4b32-909e-95f0461a5afd",
   "metadata": {},
   "source": [
    "#### Top consultores + equipe por valor - PieChart"
   ]
  },
  {
   "cell_type": "code",
   "execution_count": null,
   "id": "44e6f67e-7b35-4496-80dd-5367480ec418",
   "metadata": {},
   "outputs": [],
   "source": [
    "fig13 = go.Figure(go.Pie(labels=df13['Consultor'] + ' - ' + df13['Equipe'], values=df13['Valor Pago'], hole=.6))\n",
    "fig13.show()"
   ]
  },
  {
   "cell_type": "markdown",
   "id": "26549df3-0231-47de-85ea-561aa54be70b",
   "metadata": {},
   "source": [
    "#### Top consultores + equipe por valor - BarChart"
   ]
  },
  {
   "cell_type": "code",
   "execution_count": null,
   "id": "765000bd-f904-4d30-9930-c4b8fab6f139",
   "metadata": {},
   "outputs": [],
   "source": [
    "fig14 = go.Figure(go.Bar(x=df13['Consultor'], y=df13['Valor Pago'], textposition='auto', text=df13['Valor Pago']))"
   ]
  },
  {
   "cell_type": "code",
   "execution_count": null,
   "id": "1f87f877-8ead-41c7-a3ad-095e0d799080",
   "metadata": {},
   "outputs": [],
   "source": [
    "fig14.show()"
   ]
  },
  {
   "cell_type": "markdown",
   "id": "eda51aaf-1466-48ec-ba1a-145c0543e9d6",
   "metadata": {},
   "source": [
    "fig6.add_trace(go.Pie(labels=['Não Pago', 'Pago'], values=df6, hole=.6))\n",
    "go.Bar(\n",
    "        x=df1['Valor Pago'],\n",
    "        y=df1['Equipe'],\n",
    "        orientation='h',\n",
    "        textposition='auto',\n",
    "        text=df1['Valor Pago'],\n",
    "        insidetextfont=dict(family='Times', size=12)))"
   ]
  }
 ],
 "metadata": {
  "kernelspec": {
   "display_name": "Python 3 (ipykernel)",
   "language": "python",
   "name": "python3"
  },
  "language_info": {
   "codemirror_mode": {
    "name": "ipython",
    "version": 3
   },
   "file_extension": ".py",
   "mimetype": "text/x-python",
   "name": "python",
   "nbconvert_exporter": "python",
   "pygments_lexer": "ipython3",
   "version": "3.9.7"
  }
 },
 "nbformat": 4,
 "nbformat_minor": 5
}
